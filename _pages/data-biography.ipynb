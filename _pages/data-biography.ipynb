{
 "cells": [
  {
   "cell_type": "markdown",
   "id": "3c2c24eb-65dc-461a-988e-90c9a830891e",
   "metadata": {},
   "source": [
    "this is where my data biography will be"
   ]
  },
  {
   "cell_type": "code",
   "execution_count": null,
   "id": "d1196ae6-6224-46d2-aea7-ad8f01bfcb03",
   "metadata": {},
   "outputs": [],
   "source": []
  }
 ],
 "metadata": {
  "kernelspec": {
   "display_name": "Python [conda env:base] *",
   "language": "python",
   "name": "conda-base-py"
  },
  "language_info": {
   "codemirror_mode": {
    "name": "ipython",
    "version": 3
   },
   "file_extension": ".py",
   "mimetype": "text/x-python",
   "name": "python",
   "nbconvert_exporter": "python",
   "pygments_lexer": "ipython3",
   "version": "3.12.7"
  }
 },
 "nbformat": 4,
 "nbformat_minor": 5
}
