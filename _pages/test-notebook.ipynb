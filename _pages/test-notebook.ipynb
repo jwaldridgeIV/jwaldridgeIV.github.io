{
 "cells": [
  {
   "cell_type": "markdown",
   "id": "d20ea281-d6ca-462d-8cda-87f637ab942c",
   "metadata": {},
   "source": [
    "## Test notebook"
   ]
  },
  {
   "cell_type": "code",
   "execution_count": 2,
   "id": "d5543f72-255b-4586-a4c7-732b433d1001",
   "metadata": {},
   "outputs": [
    {
     "name": "stdout",
     "output_type": "stream",
     "text": [
      "Hello world\n"
     ]
    }
   ],
   "source": [
    "print('Hello world')"
   ]
  },
  {
   "cell_type": "code",
   "execution_count": null,
   "id": "718c6e98-2e15-4080-8ac5-6354e7eaff22",
   "metadata": {},
   "outputs": [],
   "source": []
  }
 ],
 "metadata": {
  "kernelspec": {
   "display_name": "Python [conda env:base] *",
   "language": "python",
   "name": "conda-base-py"
  },
  "language_info": {
   "codemirror_mode": {
    "name": "ipython",
    "version": 3
   },
   "file_extension": ".py",
   "mimetype": "text/x-python",
   "name": "python",
   "nbconvert_exporter": "python",
   "pygments_lexer": "ipython3",
   "version": "3.12.7"
  }
 },
 "nbformat": 4,
 "nbformat_minor": 5
}
